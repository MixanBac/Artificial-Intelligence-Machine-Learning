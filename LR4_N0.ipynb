{
 "cells": [
  {
   "cell_type": "code",
   "execution_count": 17,
   "metadata": {
    "id": "UeRpV-4scOxo"
   },
   "outputs": [],
   "source": [
    "import numpy as np\n",
    "import os\n",
    "import pandas as pd\n",
    "import warnings\n",
    "warnings.filterwarnings('ignore')"
   ]
  },
  {
   "cell_type": "code",
   "execution_count": 18,
   "metadata": {
    "colab": {
     "base_uri": "https://localhost:8080/"
    },
    "id": "Jma9aYpqcOxu",
    "outputId": "57ae81bc-0bea-4260-82e8-c59b8b56a9e8"
   },
   "outputs": [],
   "source": [
    "\n",
    "def load_data(folder_path):\n",
    "    x_train = np.load(os.path.join(folder_path, 'x_train.npy'))\n",
    "    y_train = np.load(os.path.join(folder_path, 'y_train.npy'))\n",
    "    x_test = np.load(os.path.join(folder_path, 'x_test.npy'))\n",
    "    y_test = np.load(os.path.join(folder_path, 'y_test.npy'))\n",
    "    return x_train, y_train, x_test, y_test"
   ]
  },
  {
   "cell_type": "code",
   "execution_count": 19,
   "metadata": {
    "colab": {
     "base_uri": "https://localhost:8080/",
     "height": 236
    },
    "id": "CQX-UT_-cli3",
    "outputId": "d33cf00f-1ad3-4487-bbad-3ccc83ed1e59"
   },
   "outputs": [
    {
     "data": {
      "text/html": [
       "<div>\n",
       "<style scoped>\n",
       "    .dataframe tbody tr th:only-of-type {\n",
       "        vertical-align: middle;\n",
       "    }\n",
       "\n",
       "    .dataframe tbody tr th {\n",
       "        vertical-align: top;\n",
       "    }\n",
       "\n",
       "    .dataframe thead th {\n",
       "        text-align: right;\n",
       "    }\n",
       "</style>\n",
       "<table border=\"1\" class=\"dataframe\">\n",
       "  <thead>\n",
       "    <tr style=\"text-align: right;\">\n",
       "      <th></th>\n",
       "      <th>0</th>\n",
       "      <th>1</th>\n",
       "      <th>2</th>\n",
       "      <th>3</th>\n",
       "      <th>4</th>\n",
       "      <th>5</th>\n",
       "      <th>6</th>\n",
       "      <th>7</th>\n",
       "      <th>8</th>\n",
       "      <th>9</th>\n",
       "      <th>...</th>\n",
       "      <th>246</th>\n",
       "      <th>247</th>\n",
       "      <th>248</th>\n",
       "      <th>249</th>\n",
       "      <th>250</th>\n",
       "      <th>251</th>\n",
       "      <th>252</th>\n",
       "      <th>253</th>\n",
       "      <th>254</th>\n",
       "      <th>255</th>\n",
       "    </tr>\n",
       "  </thead>\n",
       "  <tbody>\n",
       "    <tr>\n",
       "      <th>0</th>\n",
       "      <td>3.800263</td>\n",
       "      <td>-9.336801</td>\n",
       "      <td>1.887547</td>\n",
       "      <td>8.695379</td>\n",
       "      <td>-5.467888</td>\n",
       "      <td>-0.417506</td>\n",
       "      <td>6.437264</td>\n",
       "      <td>6.034322</td>\n",
       "      <td>-6.744333</td>\n",
       "      <td>-4.804074</td>\n",
       "      <td>...</td>\n",
       "      <td>0.422196</td>\n",
       "      <td>0.455706</td>\n",
       "      <td>-0.392614</td>\n",
       "      <td>-0.071493</td>\n",
       "      <td>-0.422519</td>\n",
       "      <td>0.015728</td>\n",
       "      <td>0.371949</td>\n",
       "      <td>-0.510896</td>\n",
       "      <td>-0.185008</td>\n",
       "      <td>0.830435</td>\n",
       "    </tr>\n",
       "    <tr>\n",
       "      <th>1</th>\n",
       "      <td>-0.583810</td>\n",
       "      <td>-6.129973</td>\n",
       "      <td>2.024479</td>\n",
       "      <td>6.215942</td>\n",
       "      <td>-6.587338</td>\n",
       "      <td>-2.368612</td>\n",
       "      <td>2.631253</td>\n",
       "      <td>4.848878</td>\n",
       "      <td>-2.983923</td>\n",
       "      <td>-3.354807</td>\n",
       "      <td>...</td>\n",
       "      <td>-0.050931</td>\n",
       "      <td>-0.577802</td>\n",
       "      <td>0.301587</td>\n",
       "      <td>-0.223486</td>\n",
       "      <td>1.039160</td>\n",
       "      <td>0.334080</td>\n",
       "      <td>-0.015529</td>\n",
       "      <td>-0.197926</td>\n",
       "      <td>0.141381</td>\n",
       "      <td>-0.618772</td>\n",
       "    </tr>\n",
       "    <tr>\n",
       "      <th>2</th>\n",
       "      <td>6.841292</td>\n",
       "      <td>6.092164</td>\n",
       "      <td>-2.906676</td>\n",
       "      <td>-2.175674</td>\n",
       "      <td>0.328356</td>\n",
       "      <td>-4.625822</td>\n",
       "      <td>-3.320845</td>\n",
       "      <td>-5.158869</td>\n",
       "      <td>1.074492</td>\n",
       "      <td>-0.895219</td>\n",
       "      <td>...</td>\n",
       "      <td>-0.783356</td>\n",
       "      <td>0.296611</td>\n",
       "      <td>0.928290</td>\n",
       "      <td>0.519482</td>\n",
       "      <td>-1.255517</td>\n",
       "      <td>-0.630858</td>\n",
       "      <td>0.514689</td>\n",
       "      <td>1.162088</td>\n",
       "      <td>0.189910</td>\n",
       "      <td>-0.239772</td>\n",
       "    </tr>\n",
       "    <tr>\n",
       "      <th>3</th>\n",
       "      <td>-8.539494</td>\n",
       "      <td>-1.932550</td>\n",
       "      <td>1.913704</td>\n",
       "      <td>-0.380637</td>\n",
       "      <td>3.911062</td>\n",
       "      <td>-4.017056</td>\n",
       "      <td>-1.793027</td>\n",
       "      <td>2.514312</td>\n",
       "      <td>-3.903759</td>\n",
       "      <td>-1.914817</td>\n",
       "      <td>...</td>\n",
       "      <td>0.341613</td>\n",
       "      <td>0.033174</td>\n",
       "      <td>-0.170253</td>\n",
       "      <td>0.042089</td>\n",
       "      <td>0.026970</td>\n",
       "      <td>-0.030798</td>\n",
       "      <td>-0.331591</td>\n",
       "      <td>0.258198</td>\n",
       "      <td>-0.094630</td>\n",
       "      <td>0.464437</td>\n",
       "    </tr>\n",
       "    <tr>\n",
       "      <th>4</th>\n",
       "      <td>-4.367019</td>\n",
       "      <td>4.663309</td>\n",
       "      <td>-8.983503</td>\n",
       "      <td>-1.639408</td>\n",
       "      <td>2.740054</td>\n",
       "      <td>4.763117</td>\n",
       "      <td>-4.593241</td>\n",
       "      <td>8.509668</td>\n",
       "      <td>2.915853</td>\n",
       "      <td>1.206387</td>\n",
       "      <td>...</td>\n",
       "      <td>-0.357705</td>\n",
       "      <td>0.056675</td>\n",
       "      <td>-0.221779</td>\n",
       "      <td>-0.226112</td>\n",
       "      <td>0.203785</td>\n",
       "      <td>0.390319</td>\n",
       "      <td>0.082990</td>\n",
       "      <td>-0.140710</td>\n",
       "      <td>0.493635</td>\n",
       "      <td>0.381112</td>\n",
       "    </tr>\n",
       "  </tbody>\n",
       "</table>\n",
       "<p>5 rows × 256 columns</p>\n",
       "</div>"
      ],
      "text/plain": [
       "        0         1         2         3         4         5         6    \\\n",
       "0  3.800263 -9.336801  1.887547  8.695379 -5.467888 -0.417506  6.437264   \n",
       "1 -0.583810 -6.129973  2.024479  6.215942 -6.587338 -2.368612  2.631253   \n",
       "2  6.841292  6.092164 -2.906676 -2.175674  0.328356 -4.625822 -3.320845   \n",
       "3 -8.539494 -1.932550  1.913704 -0.380637  3.911062 -4.017056 -1.793027   \n",
       "4 -4.367019  4.663309 -8.983503 -1.639408  2.740054  4.763117 -4.593241   \n",
       "\n",
       "        7         8         9    ...       246       247       248       249  \\\n",
       "0  6.034322 -6.744333 -4.804074  ...  0.422196  0.455706 -0.392614 -0.071493   \n",
       "1  4.848878 -2.983923 -3.354807  ... -0.050931 -0.577802  0.301587 -0.223486   \n",
       "2 -5.158869  1.074492 -0.895219  ... -0.783356  0.296611  0.928290  0.519482   \n",
       "3  2.514312 -3.903759 -1.914817  ...  0.341613  0.033174 -0.170253  0.042089   \n",
       "4  8.509668  2.915853  1.206387  ... -0.357705  0.056675 -0.221779 -0.226112   \n",
       "\n",
       "        250       251       252       253       254       255  \n",
       "0 -0.422519  0.015728  0.371949 -0.510896 -0.185008  0.830435  \n",
       "1  1.039160  0.334080 -0.015529 -0.197926  0.141381 -0.618772  \n",
       "2 -1.255517 -0.630858  0.514689  1.162088  0.189910 -0.239772  \n",
       "3  0.026970 -0.030798 -0.331591  0.258198 -0.094630  0.464437  \n",
       "4  0.203785  0.390319  0.082990 -0.140710  0.493635  0.381112  \n",
       "\n",
       "[5 rows x 256 columns]"
      ]
     },
     "execution_count": 19,
     "metadata": {},
     "output_type": "execute_result"
    }
   ],
   "source": [
    "x_train, y_train, x_test, y_test = load_data('dataset/')\n",
    "df = pd.DataFrame(x_train)\n",
    "df.head()"
   ]
  },
  {
   "cell_type": "markdown",
   "metadata": {
    "id": "mzekQRv4cOxv"
   },
   "source": [
    "В данной лабораторной работе будет практиковаться поиск гиперпараметров. Буду рассмотрены алгоритмы поиска гиперпараметров: grid search, random search.\n",
    "\n",
    "Помимо поиска гиперпараметров будет рассмотрен алгоритм кросс-валидации, позволяющий получить более достоверную оценку качества модели в условиях недостатка данных.\n",
    "Хотя в работе предоставлена тестовая выборка, она имеет сугубо теоретический характер (для получения финальной оценки) и на практике как правило недоступна. Поэтому во время подбора гиперпараметров используются лишь `x_train, y_train`. `x_test, y_test` используются лишь для получения финальной оценки, чтобы можно было видеть разницу между разными алгоритмами подбора гиперпараметров (если она будет).\n",
    "\n",
    "Выберите одну модель из списка: MLPClassifier, SGDClassifier, DecisionTreeClassifier, RandomForestClassifier, SVC.\n",
    "Для выбранной модели произведите поиск оптимальных гиперпараметров. Требование: поиск должен идти как минимум для двух гиперпараметров."
   ]
  },
  {
   "cell_type": "markdown",
   "metadata": {
    "id": "jfbuOhf7cOxy"
   },
   "source": [
    "## 0. Обучение бейзлайн модели для проведения сравнения"
   ]
  },
  {
   "cell_type": "code",
   "execution_count": 28,
   "metadata": {
    "colab": {
     "base_uri": "https://localhost:8080/"
    },
    "id": "j1m1C_SGcOxz",
    "outputId": "1abc7914-b8a4-44fc-ed70-f383f3cb9fd8"
   },
   "outputs": [
    {
     "name": "stdout",
     "output_type": "stream",
     "text": [
      "Prediction  -  [0 0 0 1 1 1 6 5 8 7 3 3 4 4 4 5 5 5 0 5 6 7 7 7 8 5 3 8 7 7]\n",
      "True result -  [0 0 0 1 1 1 2 2 2 3 3 3 4 4 4 5 5 5 6 6 6 7 7 7 8 8 8 9 9 9]\n",
      "Model accuracy - 0.6333333333333333\n",
      "Model f1 - 0.5590476190476191\n",
      "\n",
      "\n",
      "Classification report\n",
      "\n",
      "               precision    recall  f1-score   support\n",
      "\n",
      "           0       0.75      1.00      0.86         3\n",
      "           1       1.00      1.00      1.00         3\n",
      "           2       0.00      0.00      0.00         3\n",
      "           3       0.67      0.67      0.67         3\n",
      "           4       1.00      1.00      1.00         3\n",
      "           5       0.50      1.00      0.67         3\n",
      "           6       0.50      0.33      0.40         3\n",
      "           7       0.50      1.00      0.67         3\n",
      "           8       0.33      0.33      0.33         3\n",
      "           9       0.00      0.00      0.00         3\n",
      "\n",
      "    accuracy                           0.63        30\n",
      "   macro avg       0.52      0.63      0.56        30\n",
      "weighted avg       0.53      0.63      0.56        30\n",
      "\n"
     ]
    }
   ],
   "source": [
    "# Обучите бейзлайн модель без изменения гиперпараметров.\n",
    "# Используйте результаты для дальнешейго анализа результатов.\n",
    "\n",
    "# Напишите ваш код здесь.\n",
    "\n",
    "from sklearn.neural_network import MLPClassifier\n",
    "\n",
    "mlpModel = MLPClassifier(activation='identity', max_iter=100)\n",
    "mlpModel.fit(x_train, y_train);\n",
    "predict = mlpModel.predict(x_test)\n",
    "\n",
    "from sklearn.metrics import accuracy_score, roc_auc_score, roc_curve, precision_score, recall_score, f1_score, log_loss, classification_report, confusion_matrix, RocCurveDisplay\n",
    "\n",
    "accuracy = accuracy_score(y_test, predict)\n",
    "f1 = f1_score(y_test, predict, average='weighted')\n",
    "\n",
    "print('Prediction  - ',predict)\n",
    "print('True result - ',y_test)\n",
    "print('Model accuracy - {0}'.format(accuracy))\n",
    "print('Model f1 - {0}'.format(f1))\n",
    "print('\\n\\nClassification report\\n\\n', classification_report(y_test, predict))"
   ]
  },
  {
   "cell_type": "markdown",
   "metadata": {
    "id": "FegrKjEycOx0"
   },
   "source": [
    "## 1. K-Fold Cross-Validation"
   ]
  },
  {
   "cell_type": "code",
   "execution_count": 21,
   "metadata": {
    "id": "iZuUcHKXcOx1"
   },
   "outputs": [],
   "source": [
    "# Реализуйте фунцию кросс-валидации\n",
    "\n",
    "# Замечание: x_test, y_test не должны применятся в рамках данной функции.\n",
    "from sklearn.model_selection import KFold\n",
    "import statistics as stat\n",
    "\n",
    "def kfold_cv(model_fn, eval_fn, x: np.ndarray, y: np.ndarray, n_splits=5) -> float:\n",
    "    \"\"\"\n",
    "    Parameters\n",
    "    ----------\n",
    "    model_fn : callable\n",
    "        Функция, что возвращает объект модели.\n",
    "    eval_fn : _type_\n",
    "        Функция вида `eval_fn(labels, predictions)`, что возвращает скаляр (значение метрики).\n",
    "    x : np.ndarray\n",
    "        Набор признаков (размерность NxD, N - количество экземпляро, D - количество признаков).\n",
    "    y : np.ndarray\n",
    "        Набор меток (размерность N)\n",
    "    n_splits : int, optional\n",
    "        Количество фолдов, по умолчанию 5.\n",
    "\n",
    "    Returns\n",
    "    -------\n",
    "    float\n",
    "        Среднее значение метрики по фолдам.\n",
    "    \"\"\"\n",
    "    # Напишите ваш код здесь.\n",
    "    kf = KFold(n_splits)\n",
    "    eval = []\n",
    "    for train_index, test_index in kf.split(x_train):\n",
    "      X_train, X_test = x[train_index], x[test_index]\n",
    "      Y_train, Y_test = y[train_index], y[test_index]\n",
    "      model_fn.fit(X_train, Y_train)\n",
    "      eval.append(eval_fn(Y_test, model_fn.predict(X_test), average='weighted'))\n",
    "  \n",
    "    return stat.mean(eval)"
   ]
  },
  {
   "cell_type": "code",
   "execution_count": 22,
   "metadata": {
    "colab": {
     "base_uri": "https://localhost:8080/"
    },
    "id": "WmXuQJIicOx3",
    "outputId": "efb2bec5-7d46-44d9-f8bb-c4716fdc0b5a"
   },
   "outputs": [
    {
     "data": {
      "text/plain": [
       "0.47361471861471865"
      ]
     },
     "execution_count": 22,
     "metadata": {},
     "output_type": "execute_result"
    }
   ],
   "source": [
    "# Протестируйте функцию кросс-валидации.\n",
    "\n",
    "# Напишите ваш код здесь.\n",
    "\n",
    "\n",
    "meanValue = kfold_cv(mlpModel, f1_score, x_train, y_train, n_splits=5)\n",
    "meanValue"
   ]
  },
  {
   "cell_type": "markdown",
   "metadata": {
    "id": "mHcc2LwzcOx4"
   },
   "source": [
    "## 2. Grid search"
   ]
  },
  {
   "cell_type": "code",
   "execution_count": 37,
   "metadata": {
    "colab": {
     "base_uri": "https://localhost:8080/"
    },
    "id": "BDTKrUfTcOx5",
    "outputId": "cd4ea664-dd55-4536-b23e-e3973b832a1d"
   },
   "outputs": [
    {
     "name": "stdout",
     "output_type": "stream",
     "text": [
      "Execution time: 39.357378100045025\n",
      "Optimal values of hyperparameters are following:\n",
      "Max iterations value - 180 , Activation type - tanh\n"
     ]
    }
   ],
   "source": [
    "# 1. Реализуйте алгоритм поиска гиперпараметров grid search.\n",
    "# 2. Запустите поиск гиперпараметров, замерьте время работы алгоритма.\n",
    "# 3. Выведите найденные значения гиперпараметров и время работы.\n",
    "# Замечание: x_test, y_test не должны применятся в рамках данного алгоритма.\n",
    "# Требование: используйте kfold_cv для получения значения метрики в рамках одной итерации.\n",
    "\n",
    "# Напишите ваш код здесь.\n",
    "\n",
    "from sklearn.pipeline import Pipeline\n",
    "import time\n",
    "\n",
    "result_grid = dict()\n",
    "parameter_space_grid = {\n",
    "    'max_iter': [100,120,140, 160, 180, 200,220, 240, 260, 280, 300, 320, 340],\n",
    "    'activation': ['identity', 'logistic', 'tanh', 'relu'],\n",
    "}\n",
    "\n",
    "t_begin = time.perf_counter()\n",
    "\n",
    "for max_iter_param in parameter_space_grid['max_iter']:\n",
    "    for activation_param in parameter_space_grid['activation']:\n",
    "        testModel = MLPClassifier(max_iter=max_iter_param, activation=activation_param)\n",
    "        key = 'Max iterations value - ' + str(max_iter_param) + ' , Activation type - ' + activation_param\n",
    "        result_grid[key] = kfold_cv(testModel, f1_score, x_train, y_train, n_splits=5)\n",
    "\n",
    "t_end = time.perf_counter()\n",
    "print('Execution time:',t_end - t_begin)\n",
    "print(\"Optimal values of hyperparameters are following:\")\n",
    "print(max(result_grid, key=result_grid.get))\n"
   ]
  },
  {
   "cell_type": "code",
   "execution_count": 42,
   "metadata": {
    "colab": {
     "base_uri": "https://localhost:8080/"
    },
    "id": "u913xrpYcOx6",
    "outputId": "4393db14-9f5d-481e-93ea-32c4734a8c80"
   },
   "outputs": [
    {
     "name": "stdout",
     "output_type": "stream",
     "text": [
      "Prediction  -  [0 0 0 1 1 1 3 0 8 3 3 3 4 4 4 5 5 5 0 6 1 7 7 7 2 5 8 5 7 9]\n",
      "True result -  [0 0 0 1 1 1 2 2 2 3 3 3 4 4 4 5 5 5 6 6 6 7 7 7 8 8 8 9 9 9]\n",
      "Model accuracy - 0.7\n",
      "Model f1 - 0.6471428571428571\n",
      "\n",
      "\n",
      "Classification report\n",
      "\n",
      "               precision    recall  f1-score   support\n",
      "\n",
      "           0       0.60      1.00      0.75         3\n",
      "           1       0.75      1.00      0.86         3\n",
      "           2       0.00      0.00      0.00         3\n",
      "           3       0.75      1.00      0.86         3\n",
      "           4       1.00      1.00      1.00         3\n",
      "           5       0.60      1.00      0.75         3\n",
      "           6       1.00      0.33      0.50         3\n",
      "           7       0.75      1.00      0.86         3\n",
      "           8       0.50      0.33      0.40         3\n",
      "           9       1.00      0.33      0.50         3\n",
      "\n",
      "    accuracy                           0.70        30\n",
      "   macro avg       0.70      0.70      0.65        30\n",
      "weighted avg       0.70      0.70      0.65        30\n",
      "\n"
     ]
    }
   ],
   "source": [
    "# Используйте найденные гиперпараметры для обучения модели. \n",
    "# Протестируйте модель на x_test, y_test.\n",
    "\n",
    "# Напишите ваш код здесь.\n",
    "\n",
    "randomModel = MLPClassifier(max_iter=180, activation='tanh')\n",
    "randomModel.fit(x_train, y_train);\n",
    "randomPredict = randomModel.predict(x_test)\n",
    "randomAccuracy = accuracy_score(y_test, randomPredict)\n",
    "randomF1 = f1_score(y_test, randomPredict, average='weighted')\n",
    "\n",
    "print('Prediction  - ',randomPredict)\n",
    "print('True result - ',y_test)\n",
    "print('Model accuracy - {0}'.format(randomAccuracy))\n",
    "print('Model f1 - {0}'.format(randomF1))\n",
    "print('\\n\\nClassification report\\n\\n', classification_report(y_test, randomPredict))\n"
   ]
  },
  {
   "cell_type": "markdown",
   "metadata": {
    "id": "2v-mKTf4cOx8"
   },
   "source": [
    "## 3. Random search"
   ]
  },
  {
   "cell_type": "code",
   "execution_count": 31,
   "metadata": {
    "colab": {
     "base_uri": "https://localhost:8080/"
    },
    "id": "FQYukUArcOx9",
    "outputId": "8edd1c33-c3ab-43f2-a0ce-43eabb67035e"
   },
   "outputs": [
    {
     "name": "stdout",
     "output_type": "stream",
     "text": [
      "Execution time: 6.331007287837565\n",
      "Optimal values of hyperparameters are following:\n",
      "Max iterations value - 280 , Activation type - identity\n"
     ]
    }
   ],
   "source": [
    "# 1. Реализуйте алгоритм поиска гиперпараметров random search.\n",
    "# 2. Запустите поиск гиперпараметров, замерьте время работы алгоритма.\n",
    "# 3. Выведите найденные значения гиперпараметров и время работы.\n",
    "# Замечание: x_test, y_test не должны применятся в рамках данного алгоритма.\n",
    "# Требование: используйте kfold_cv для получения значения метрики в рамках одной итерации.\n",
    "\n",
    "# Напишите ваш код здесь.\n",
    "\n",
    "import random\n",
    "\n",
    "n_iter = 7\n",
    "result_random = dict()\n",
    "parameter_space_random = {\n",
    "    'max_iter': [100,120,140, 160, 180, 200,220, 240, 260, 280, 300, 320, 340],\n",
    "    'activation': ['identity', 'logistic', 'tanh', 'relu'],\n",
    "}\n",
    "\n",
    "t_begin = time.perf_counter()\n",
    "\n",
    "for i in range(n_iter):\n",
    "  max_iter_param = parameter_space_random['max_iter'][random.randrange(12)]\n",
    "  activation_param = parameter_space_random['activation'][random.randrange(3)]\n",
    "  testModel = MLPClassifier(random_state=random_state_param, max_iter=max_iter_param, activation=activation_param, solver=solver_param)\n",
    "  key = 'Max iterations value - ' + str(max_iter_param) + ' , Activation type - ' + activation_param\n",
    "  result_random[key] = kfold_cv(testModel, f1_score, x_train, y_train, n_splits=5)\n",
    "\n",
    "t_end = time.perf_counter()\n",
    "print('Execution time:',t_end - t_begin)\n",
    "print(\"Optimal values of hyperparameters are following:\")\n",
    "print(max(result_random, key=result_random.get))"
   ]
  },
  {
   "cell_type": "code",
   "execution_count": 32,
   "metadata": {
    "colab": {
     "base_uri": "https://localhost:8080/"
    },
    "id": "eWTM9LmtcOx_",
    "outputId": "817c0d39-ae3d-4a96-d06b-89dd9a38247a"
   },
   "outputs": [
    {
     "name": "stdout",
     "output_type": "stream",
     "text": [
      "Prediction  -  [0 0 0 1 1 1 3 2 3 1 3 3 4 4 4 5 3 5 0 5 4 7 7 7 8 8 8 0 7 9]\n",
      "True result -  [0 0 0 1 1 1 2 2 2 3 3 3 4 4 4 5 5 5 6 6 6 7 7 7 8 8 8 9 9 9]\n",
      "Model accuracy - 0.7\n",
      "Model f1 - 0.6488095238095238\n",
      "\n",
      "\n",
      "Classification report\n",
      "\n",
      "               precision    recall  f1-score   support\n",
      "\n",
      "           0       0.60      1.00      0.75         3\n",
      "           1       0.75      1.00      0.86         3\n",
      "           2       1.00      0.33      0.50         3\n",
      "           3       0.40      0.67      0.50         3\n",
      "           4       0.75      1.00      0.86         3\n",
      "           5       0.67      0.67      0.67         3\n",
      "           6       0.00      0.00      0.00         3\n",
      "           7       0.75      1.00      0.86         3\n",
      "           8       1.00      1.00      1.00         3\n",
      "           9       1.00      0.33      0.50         3\n",
      "\n",
      "    accuracy                           0.70        30\n",
      "   macro avg       0.69      0.70      0.65        30\n",
      "weighted avg       0.69      0.70      0.65        30\n",
      "\n"
     ]
    }
   ],
   "source": [
    "# Используйте найденные гиперпараметры для обучения модели. \n",
    "# Протестируйте модель на x_test, y_test.\n",
    "\n",
    "# Напишите ваш код здесь.\n",
    "\n",
    "randomModel = MLPClassifier(max_iter=280, activation='identity')\n",
    "randomModel.fit(x_train, y_train);\n",
    "randomPredict = randomModel.predict(x_test)\n",
    "randomAccuracy = accuracy_score(y_test, randomPredict)\n",
    "randomF1 = f1_score(y_test, randomPredict, average='weighted')\n",
    "\n",
    "print('Prediction  - ',randomPredict)\n",
    "print('True result - ',y_test)\n",
    "print('Model accuracy - {0}'.format(randomAccuracy))\n",
    "print('Model f1 - {0}'.format(randomF1))\n",
    "print('\\n\\nClassification report\\n\\n', classification_report(y_test, randomPredict))\n",
    "\n"
   ]
  },
  {
   "cell_type": "markdown",
   "metadata": {
    "id": "93PfX-V5cOyA"
   },
   "source": [
    "## 4. Доп. задание (опционально)"
   ]
  },
  {
   "cell_type": "markdown",
   "metadata": {
    "id": "W_m03iFkcOyA"
   },
   "source": [
    "### 4.1 Bayesian optimization"
   ]
  },
  {
   "cell_type": "markdown",
   "metadata": {
    "id": "kBG7t7vlcOyB"
   },
   "source": [
    "Примените байесовскую оптимизацию для поиска гиперпараметров.\n",
    "В качестве алгоритма используйте `BayesSearchCV` из пакета `scikit-optimize`.\n",
    "\n",
    "Сложность: почти бесплатный балл."
   ]
  },
  {
   "cell_type": "code",
   "execution_count": 29,
   "metadata": {
    "id": "PjsLpTZacOyB"
   },
   "outputs": [],
   "source": [
    "# 1. Инстанцируйте BayesSearchCV.\n",
    "# 2. Запустите поиск гиперпараметров, замерьте время работы алгоритма.\n",
    "# 3. Выведите найденные значения гиперпараметров и время работы.\n",
    "\n",
    "# Напишите ваш код здесь."
   ]
  },
  {
   "cell_type": "code",
   "execution_count": 30,
   "metadata": {
    "id": "GGG5slz6cOyB"
   },
   "outputs": [],
   "source": [
    "# Используйте найденные гиперпараметры для обучения модели. \n",
    "# Протестируйте модель на x_test, y_test.\n",
    "\n",
    "# Напишите ваш код здесь."
   ]
  },
  {
   "cell_type": "markdown",
   "metadata": {
    "id": "OkeFjsd4cOyB"
   },
   "source": [
    "### 4.2 Tree of Parzen Estimators (TPE) из HyperOpt"
   ]
  },
  {
   "cell_type": "markdown",
   "metadata": {
    "id": "mhJsBuTFcOyC"
   },
   "source": [
    "Примените TPE из библиотеки hyperopt для поиска гиперпараметров. Вики по HyperOpt: https://github.com/hyperopt/hyperopt/wiki/FMin\n",
    "\n",
    "Сложность: чтец документаций o(*￣▽￣*)ブ."
   ]
  },
  {
   "cell_type": "code",
   "execution_count": 31,
   "metadata": {
    "id": "o8W_k5AbcOyE"
   },
   "outputs": [],
   "source": [
    "def objective(args):\n",
    "    # Принимает гиперпараметры, инстанцирует модель, обучает её, возвращает значение метрики.\n",
    "    # Замечание: x_test, y_test не должны применятся в рамках данного алгоритма.\n",
    "    \n",
    "    # Напишите ваш код здесь.\n",
    "    pass"
   ]
  },
  {
   "cell_type": "code",
   "execution_count": 32,
   "metadata": {
    "id": "jA5u-atGcOyI"
   },
   "outputs": [],
   "source": [
    "# Определите пространство поиска гиперпараметров\n",
    "space = None"
   ]
  },
  {
   "cell_type": "code",
   "execution_count": 33,
   "metadata": {
    "id": "XIcPeHqVcOyJ"
   },
   "outputs": [],
   "source": [
    "# 1. Запустите поиск гиперпараметров, замерьте время работы алгоритма.\n",
    "# 2. Выведите найденные значения гиперпараметров и время работы.\n",
    "\n",
    "# Напишите ваш код здесь."
   ]
  },
  {
   "cell_type": "code",
   "execution_count": 34,
   "metadata": {
    "id": "n345QHhUcOyJ"
   },
   "outputs": [],
   "source": [
    "# Используйте найденные гиперпараметры для обучения модели. \n",
    "# Протестируйте модель на x_test, y_test.\n",
    "\n",
    "# Напишите ваш код здесь."
   ]
  }
 ],
 "metadata": {
  "colab": {
   "provenance": []
  },
  "kernelspec": {
   "display_name": "Python 3 (ipykernel)",
   "language": "python",
   "name": "python3"
  },
  "language_info": {
   "codemirror_mode": {
    "name": "ipython",
    "version": 3
   },
   "file_extension": ".py",
   "mimetype": "text/x-python",
   "name": "python",
   "nbconvert_exporter": "python",
   "pygments_lexer": "ipython3",
   "version": "3.10.7"
  },
  "vscode": {
   "interpreter": {
    "hash": "23b26f1881f590c7b459213b984520b9808dddee0bcd327e09d3f0f8eaeae1aa"
   }
  }
 },
 "nbformat": 4,
 "nbformat_minor": 4
}
